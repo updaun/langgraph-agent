{
 "cells": [
  {
   "cell_type": "code",
   "execution_count": null,
   "metadata": {},
   "outputs": [],
   "source": [
    "from dotenv import load_dotenv\n",
    "\n",
    "load_dotenv()"
   ]
  },
  {
   "cell_type": "code",
   "execution_count": null,
   "metadata": {},
   "outputs": [],
   "source": [
    "from typing_extensions import TypedDict\n",
    "from langgraph.graph import StateGraph\n",
    "\n",
    "class AgentState(TypedDict):\n",
    "    query: str # 사용자 질문\n",
    "    answer: str # 세율\n",
    "    tax_base_equation: str # 과세표준 계산 수식\n",
    "    tax_deduction: str # 공제액\n",
    "    market_ratio: str # 공정시장가액비율\n",
    "    tax_base: str # 과세표준 계산\n",
    "\n",
    "graph_builder = StateGraph(AgentState)"
   ]
  },
  {
   "cell_type": "code",
   "execution_count": null,
   "metadata": {},
   "outputs": [],
   "source": [
    "from langchain_text_splitters import RecursiveCharacterTextSplitter\n",
    "\n",
    "text_splitter = RecursiveCharacterTextSplitter(\n",
    "    chunk_size=1500,\n",
    "    chunk_overlap=100,\n",
    "    separators=['\\n\\n', '\\n']\n",
    ")"
   ]
  },
  {
   "cell_type": "code",
   "execution_count": null,
   "metadata": {},
   "outputs": [],
   "source": [
    "from langchain_community.document_loaders import TextLoader\n",
    "\n",
    "text_path = './documents/real_estate_tax.txt'\n",
    "\n",
    "loader = TextLoader(text_path)\n",
    "document_list = loader.load_and_split(text_splitter)"
   ]
  },
  {
   "cell_type": "code",
   "execution_count": null,
   "metadata": {},
   "outputs": [],
   "source": [
    "from langchain_openai import OpenAIEmbeddings\n",
    "\n",
    "embeddings = OpenAIEmbeddings(model='text-embedding-3-large')"
   ]
  },
  {
   "cell_type": "code",
   "execution_count": null,
   "metadata": {},
   "outputs": [],
   "source": [
    "from langchain_chroma import Chroma\n",
    "\n",
    "vector_store = Chroma.from_documents(\n",
    "    documents=document_list,\n",
    "    embedding=embeddings,\n",
    "    collection_name = 'real_estate_tax',\n",
    "    persist_directory = './real_estate_tax_collection'\n",
    ")"
   ]
  },
  {
   "cell_type": "code",
   "execution_count": null,
   "metadata": {},
   "outputs": [],
   "source": [
    "from langchain_chroma import Chroma\n",
    "from langchain_openai import OpenAIEmbeddings\n",
    "\n",
    "embedding_function = OpenAIEmbeddings(model=\"text-embedding-3-large\")\n",
    "\n",
    "vector_store = Chroma(\n",
    "    embedding_function=embedding_function,\n",
    "    collection_name = 'real_estate_tax',\n",
    "    persist_directory = './real_estate_tax_collection'\n",
    ")\n",
    "retriever = vector_store.as_retriever(search_kwargs={\"k\": 3})"
   ]
  },
  {
   "cell_type": "code",
   "execution_count": null,
   "metadata": {},
   "outputs": [],
   "source": [
    "query = \"5억짜리 집 1채, 10억짜리 집 1채, 20억짜리 집 1채를 가지고 있을 때 세금을 얼마나 내나요?\""
   ]
  },
  {
   "cell_type": "code",
   "execution_count": null,
   "metadata": {},
   "outputs": [],
   "source": [
    "from langchain_openai import ChatOpenAI\n",
    "from langchain import hub\n",
    "from langchain_core.output_parsers import StrOutputParser\n",
    "from langchain_core.runnables import RunnablePassthrough\n",
    "from langchain_core.prompts import ChatPromptTemplate\n",
    "\n",
    "rag_prompt = hub.pull('rlm/rag-prompt')\n",
    "llm = ChatOpenAI(model='gpt-4o')\n",
    "small_llm = ChatOpenAI(model='gpt-4o-mini')"
   ]
  },
  {
   "cell_type": "code",
   "execution_count": null,
   "metadata": {},
   "outputs": [],
   "source": [
    "tax_base_retrieval_chain = (\n",
    "    {'context': retriever, 'question': RunnablePassthrough()}\n",
    "    | rag_prompt \n",
    "    | llm \n",
    "    | StrOutputParser()\n",
    ")\n",
    "\n",
    "tax_base_equation_prompt = ChatPromptTemplate([\n",
    "    ('system', '사용자의 질문에서 과세표준을 계산하는 방법을 수식으로 나타내주세요. 부연설명 없이 수식만 리턴해주세요.'),\n",
    "    ('human', '{tax_base_equation_information}')\n",
    "])\n",
    "\n",
    "tax_base_equation_chain = (\n",
    "    {'tax_base_equation_information': RunnablePassthrough()}\n",
    "    | tax_base_equation_prompt\n",
    "    | llm\n",
    "    | StrOutputParser()\n",
    ")\n",
    "\n",
    "tax_base_chain = {'tax_base_equation_information': tax_base_retrieval_chain} | tax_base_equation_chain\n",
    "\n",
    "def get_tax_base_equation(state: AgentState) -> str:\n",
    "    tax_base_equation_question = '주택에 대한 종합부동산세 계산시 과세표준을 계산하는 방법을 수식으로 표현해서 알려주세요'\n",
    "    tax_base_equation = tax_base_chain.invoke(tax_base_equation_question)\n",
    "    return {'tax_base_equation': tax_base_equation}"
   ]
  },
  {
   "cell_type": "code",
   "execution_count": null,
   "metadata": {},
   "outputs": [],
   "source": [
    "# get_tax_base_equation({})\n",
    "# {'tax_base_equation': '과세표준 = (주택 공시가격 합계 - 공제금액) × 공정시장가액비율'}"
   ]
  },
  {
   "cell_type": "code",
   "execution_count": null,
   "metadata": {},
   "outputs": [],
   "source": [
    "tax_deduction_chain = (\n",
    "    {'context': retriever, 'question': RunnablePassthrough()}\n",
    "    | rag_prompt\n",
    "    | llm\n",
    "    | StrOutputParser()\n",
    ")\n",
    "\n",
    "def get_tax_deduction(state: AgentState):\n",
    "    tax_deduction_question = '주택에 대한 종합부동산세 계산시 공제금액을 알려주세요'\n",
    "    tax_deduction = tax_deduction_chain.invoke(tax_deduction_question)\n",
    "    return {'tax_deduction': tax_deduction}"
   ]
  },
  {
   "cell_type": "code",
   "execution_count": null,
   "metadata": {},
   "outputs": [],
   "source": [
    "# get_tax_deduction({})\n",
    "# {'tax_deduction': '주택에 대한 종합부동산세 계산 시 1세대 1주택자는 12억 원, 그 외의 경우는 9억 원이 공제됩니다.'}"
   ]
  },
  {
   "cell_type": "code",
   "execution_count": null,
   "metadata": {},
   "outputs": [],
   "source": [
    "from langchain_community.tools import TavilySearchResults\n",
    "from datetime import date\n",
    "\n",
    "tavily_search_tool = TavilySearchResults(\n",
    "    max_results=5,\n",
    "    search_depth=\"advanced\",\n",
    "    include_answer=True,\n",
    "    include_raw_content=True,\n",
    "    include_images=True,\n",
    ")\n",
    "\n",
    "tax_marget_ratio_prompt = ChatPromptTemplate.from_messages([\n",
    "    ('system', f'아래 정보를 기반으로 공정시장 가액비율을 계산해주세요\\n\\nContext:\\n{{context}}'),\n",
    "    ('human', '{query}')\n",
    "])\n",
    "\n",
    "def get_market_ratio(state: AgentState):\n",
    "    query = '오늘 날짜:({date.today()})에 해당하는 주택 공시가격 공정시장가액비율은 몇&인가요?'\n",
    "    context = tavily_search_tool.invoke(query)\n",
    "    tax_market_ratio_chain = (\n",
    "        tax_marget_ratio_prompt\n",
    "        | llm\n",
    "        | StrOutputParser()\n",
    "    )\n",
    "    market_ratio = tax_market_ratio_chain.invoke({'context': context, 'query': query})\n",
    "    return {'market_ratio': market_ratio}\n"
   ]
  },
  {
   "cell_type": "code",
   "execution_count": null,
   "metadata": {},
   "outputs": [],
   "source": [
    "# get_market_ratio({})\n",
    "# {'market_ratio': '죄송합니다. 현재 날짜를 확인하거나 실시간 정보를 제공할 수 없습니다. 하지만 제공된 정보에 따르면, 2025년 기준으로 주택 공시가격에 따른 공정시장가액비율은 다음과 같습니다:\\n\\n- 공시가격 3억원 이하: 43%\\n- 공시가격 6억원 이하: 44%\\n- 공시가격 6억원 초과: 45%\\n- 다주택자 및 법인: 60%\\n\\n따라서 현재 시점의 공정시장가액비율은 위의 정보를 참고하시기 바랍니다.'}"
   ]
  },
  {
   "cell_type": "code",
   "execution_count": null,
   "metadata": {},
   "outputs": [],
   "source": [
    "\n",
    "tax_base_calculation_prompt = ChatPromptTemplate.from_messages([\n",
    "    ('system', \"\"\"\n",
    "주어진 내용을 기반으로 과세표준을 계산해주세요.\n",
    "\n",
    "과세표준 계산 공식: {tax_base_equation}\n",
    "공제금액 : {tax_deduction}\n",
    "공정시장가액비율 : {market_ratio}\"\"\"),\n",
    "    ('human', \"사용자 주택 공시가격 정보 : {query}\")\n",
    "])\n",
    "\n",
    "\n",
    "def calculate_tax_base(state:AgentState):\n",
    "    tax_base_equation = state['tax_base_equation']\n",
    "    tax_deduction = state['tax_deduction']\n",
    "    market_ratio = state['market_ratio']\n",
    "    query = state['query']\n",
    "    tax_base_calculation_chain = (\n",
    "        tax_base_calculation_prompt\n",
    "        | llm\n",
    "        | StrOutputParser()\n",
    "    )\n",
    "    tax_base = tax_base_calculation_chain.invoke({\n",
    "        'tax_base_equation': tax_base_equation,\n",
    "        'tax_deduction': tax_deduction,\n",
    "        'market_ratio': market_ratio,\n",
    "        'query': query\n",
    "    })\n",
    "    print(f\"tax_base == {tax_base}\")\n",
    "    return {'tax_base': tax_base}"
   ]
  },
  {
   "cell_type": "code",
   "execution_count": null,
   "metadata": {},
   "outputs": [],
   "source": [
    "initial_state = {\n",
    "    'query': query,\n",
    "    'tax_base_equation': \"과세표준 = (주택 공시가격 합계 - 공제금액) × 공정시장가액비율\",\n",
    "    'tax_deduction': \"주택에 대한 종합부동산세 계산 시 1세대 1주택자는 12억 원, 그 외의 경우는 9억 원이 공제됩니다.\",\n",
    "    'market_ratio': \"2025년 기준으로 주택 공시가격에 따른 공정시장가액비율은 다음과 같습니다:\\n\\n- 공시가격 3억원 이하: 43%\\n- 공시가격 6억원 이하: 44%\\n- 공시가격 6억원 초과: 45%\\n- 다주택자 및 법인: 60%\",\n",
    "}"
   ]
  },
  {
   "cell_type": "code",
   "execution_count": null,
   "metadata": {},
   "outputs": [],
   "source": [
    "# calculate_tax_base(inital_state)"
   ]
  },
  {
   "cell_type": "code",
   "execution_count": null,
   "metadata": {},
   "outputs": [],
   "source": [
    "tax_rate_calculation_prompt = ChatPromptTemplate.from_messages([\n",
    "    ('system', '''당신은 종합부동산세 계산 전문가입니다. 아래 문서를 참고해서 사용자의 질문에 대한 종합부동산세를 계산해주세요\n",
    "\n",
    "종합부동산세 세율:{context}'''),\n",
    "    ('human', '''과세표준과 사용자가 소지한 주택의 수가 아래와 같을 때 종합부동산세를 계산해주세요\n",
    "\n",
    "과세표준: {tax_base}\n",
    "주택 수: {query}''')\n",
    "])\n",
    "\n",
    "def calculate_tax_rate(state: AgentState):\n",
    "    query = state['query']\n",
    "    tax_base = state['tax_base']\n",
    "    context = retriever.invoke(query)\n",
    "    tax_rate_chain = (\n",
    "        tax_rate_calculation_prompt\n",
    "        | llm\n",
    "        | StrOutputParser()\n",
    "    )\n",
    "    tax_rate = tax_rate_chain.invoke({\n",
    "        'context': context,\n",
    "        'tax_base': tax_base,\n",
    "        'query': query\n",
    "    })\n",
    "    print(f\"tax_rate == {tax_rate}\")\n",
    "    return {'answer': tax_rate}"
   ]
  },
  {
   "cell_type": "code",
   "execution_count": null,
   "metadata": {},
   "outputs": [],
   "source": [
    "calculate_tax_rate(initial_state)\n"
   ]
  },
  {
   "cell_type": "code",
   "execution_count": null,
   "metadata": {},
   "outputs": [],
   "source": [
    "tax_base_state = {\n",
    "    'tax_base': '주어진 정보를 바탕으로 과세표준을 계산해 보겠습니다.\\n\\n1. 주택 공시가격 합계: \\n   - 5억 원짜리 집 1채\\n   - 10억 원짜리 집 1채\\n   - 20억 원짜리 집 1채\\n\\n   총 공시가격 = 5억 + 10억 + 20억 = 35억 원\\n\\n2. 공제금액:\\n   - 여러 채의 주택을 소유하셨으므로 1세대 1주택자에 해당되지 않습니다. 따라서 9억 원이 공제됩니다.\\n\\n3. 공정시장가액비율:\\n   - 다주택자이므로 60%의 공정시장가액비율이 적용됩니다.\\n\\n과세표준 계산:\\n\\\\[ \\\\text{과세표준} = (\\\\text{주택 공시가격 합계} - \\\\text{공제금액}) \\\\times \\\\text{공정시장가액비율} \\\\]\\n\\n\\\\[ \\\\text{과세표준} = (35억 - 9억) \\\\times 0.60 \\\\]\\n\\n\\\\[ \\\\text{과세표준} = 26억 \\\\times 0.60 \\\\]\\n\\n\\\\[ \\\\text{과세표준} = 15.6억 원 \\\\]\\n\\n따라서 과세표준은 15.6억 원입니다. \\n\\n이 과세표준을 바탕으로 종합부동산세를 계산할 수 있습니다. 과세표준에 대한 세율은 별도로 확인해야 합니다.', \"query\":query \n",
    "}"
   ]
  },
  {
   "cell_type": "code",
   "execution_count": null,
   "metadata": {},
   "outputs": [],
   "source": [
    "calculate_tax_rate(tax_base_state)"
   ]
  },
  {
   "cell_type": "code",
   "execution_count": null,
   "metadata": {},
   "outputs": [],
   "source": [
    "graph_builder.add_node('get_tax_base_equation', get_tax_base_equation)\n",
    "graph_builder.add_node('get_tax_deduction', get_tax_deduction)\n",
    "graph_builder.add_node('get_market_ratio', get_market_ratio)\n",
    "graph_builder.add_node('calculate_tax_base', calculate_tax_base)\n",
    "graph_builder.add_node('calculate_tax_rate', calculate_tax_rate)"
   ]
  },
  {
   "cell_type": "code",
   "execution_count": null,
   "metadata": {},
   "outputs": [],
   "source": [
    "from langgraph.graph import START, END\n",
    "\n",
    "graph_builder.add_edge(START, 'get_tax_base_equation') # 과세표준 계산방법\n",
    "graph_builder.add_edge(START, 'get_tax_deduction') # 공제액\n",
    "graph_builder.add_edge(START, 'get_market_ratio') # 공정시장가액비율\n",
    "# 과세표준 계산\n",
    "graph_builder.add_edge('get_tax_base_equation', 'calculate_tax_base')\n",
    "graph_builder.add_edge('get_tax_deduction', 'calculate_tax_base')\n",
    "graph_builder.add_edge('get_market_ratio', 'calculate_tax_base')\n",
    "# 세율, 세액 계산\n",
    "graph_builder.add_edge('calculate_tax_base', 'calculate_tax_rate')\n",
    "graph_builder.add_edge('calculate_tax_rate', END)\n"
   ]
  },
  {
   "cell_type": "code",
   "execution_count": null,
   "metadata": {},
   "outputs": [],
   "source": [
    "graph = graph_builder.compile()"
   ]
  },
  {
   "cell_type": "code",
   "execution_count": null,
   "metadata": {},
   "outputs": [],
   "source": [
    "from IPython.display import Image, display\n",
    "\n",
    "display(Image(graph.get_graph().draw_mermaid_png()))"
   ]
  },
  {
   "cell_type": "code",
   "execution_count": null,
   "metadata": {},
   "outputs": [],
   "source": [
    "initial_state = {'query': query}\n",
    "graph.invoke(initial_state)"
   ]
  },
  {
   "cell_type": "code",
   "execution_count": null,
   "metadata": {},
   "outputs": [],
   "source": []
  }
 ],
 "metadata": {
  "kernelspec": {
   "display_name": ".venv",
   "language": "python",
   "name": "python3"
  },
  "language_info": {
   "codemirror_mode": {
    "name": "ipython",
    "version": 3
   },
   "file_extension": ".py",
   "mimetype": "text/x-python",
   "name": "python",
   "nbconvert_exporter": "python",
   "pygments_lexer": "ipython3",
   "version": "3.13.2"
  }
 },
 "nbformat": 4,
 "nbformat_minor": 2
}
