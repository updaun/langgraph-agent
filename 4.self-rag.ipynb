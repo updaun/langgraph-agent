{
 "cells": [
  {
   "cell_type": "code",
   "execution_count": null,
   "metadata": {},
   "outputs": [],
   "source": [
    "from langchain_chroma import Chroma\n",
    "from langchain_openai import OpenAIEmbeddings\n",
    "\n",
    "embedding_function = OpenAIEmbeddings(model=\"text-embedding-3-large\")\n",
    "\n",
    "vector_store = Chroma(\n",
    "    embedding_function=embedding_function,\n",
    "    collection_name = 'income_tax_collection',\n",
    "    persist_directory = './income_tax_collection'\n",
    ")\n",
    "retriever = vector_store.as_retriever(search_kwargs={\"k\": 3})"
   ]
  },
  {
   "cell_type": "code",
   "execution_count": null,
   "metadata": {},
   "outputs": [],
   "source": [
    "from typing_extensions import TypedDict, List\n",
    "from langchain_core.documents import Document\n",
    "from langgraph.graph import StateGraph\n",
    "\n",
    "class AgentState(TypedDict):\n",
    "    query: str\n",
    "    context: List[Document]\n",
    "    answer: str\n",
    "\n",
    "graph_builder = StateGraph(AgentState)"
   ]
  },
  {
   "cell_type": "code",
   "execution_count": null,
   "metadata": {},
   "outputs": [],
   "source": [
    "def retrieve(state: AgentState) -> AgentState:\n",
    "    query = state['query']\n",
    "    docs = retriever.invoke(query)\n",
    "    return {'context': docs}"
   ]
  },
  {
   "cell_type": "code",
   "execution_count": null,
   "metadata": {},
   "outputs": [],
   "source": [
    "\n",
    "from langchain_openai import ChatOpenAI\n",
    "\n",
    "llm = ChatOpenAI(model=\"gpt-4o\")"
   ]
  },
  {
   "cell_type": "code",
   "execution_count": null,
   "metadata": {},
   "outputs": [],
   "source": [
    "from langchain import hub\n",
    "from langchain_core.output_parsers import StrOutputParser\n",
    "\n",
    "generate_prompt = hub.pull(\"rlm/rag-prompt\")\n",
    "generate_llm = ChatOpenAI(model=\"gpt-4o\", max_completion_tokens=100)\n",
    "\n",
    "def generate(state: AgentState) -> AgentState:\n",
    "    context = state['context'] \n",
    "    query = state['query']  \n",
    "    rag_chain = generate_prompt | generate_llm | StrOutputParser()\n",
    "    response = rag_chain.invoke({'question': query, 'context': context}) \n",
    "    return {'answer': response} "
   ]
  },
  {
   "cell_type": "code",
   "execution_count": null,
   "metadata": {},
   "outputs": [],
   "source": [
    "from langchain import hub\n",
    "from typing import Literal\n",
    "\n",
    "doc_relevance_prompt = hub.pull(\"langchain-ai/rag-document-relevance\")\n",
    "\n",
    "def check_doc_relevance(state: AgentState) -> Literal['relevant', 'irrelevant']:\n",
    "    query = state['query']\n",
    "    context = state['context']\n",
    "    print(f'context == {context}')\n",
    "    doc_relevance_chain = doc_relevance_prompt | llm\n",
    "    response = doc_relevance_chain.invoke({'question': query, 'documents': context})\n",
    "    print(f'doc relevance response == {response}')\n",
    "    if response[\"Score\"] == 1:\n",
    "        return 'relevant'\n",
    "    return 'irrelevant'"
   ]
  },
  {
   "cell_type": "code",
   "execution_count": null,
   "metadata": {},
   "outputs": [],
   "source": [
    "from langchain_core.prompts import PromptTemplate\n",
    "from langchain_core.output_parsers import StrOutputParser\n",
    "\n",
    "dictionary = ['사람과 관련된 표현 -> 거주자']\n",
    "rewrite_prompt = PromptTemplate.from_template(f\"\"\"\n",
    "사용자의 질문을 보고, 우리의 사전을 참고해서 사용자의 질문을 변경해주세요\n",
    "사전: {dictionary}\n",
    "질문: {{query}}\n",
    "\"\"\")\n",
    "\n",
    "def rewrite(state: AgentState):\n",
    "    query = state['query']\n",
    "    rewrite_chain = rewrite_prompt | llm | StrOutputParser()\n",
    "\n",
    "    response = rewrite_chain.invoke({'query': query})\n",
    "    return {'query': response}"
   ]
  },
  {
   "cell_type": "code",
   "execution_count": null,
   "metadata": {},
   "outputs": [],
   "source": [
    "# from langchain import hub\n",
    "\n",
    "# hallucination_prompt = hub.pull(\"langchain-ai/rag-answer-hallucination\")"
   ]
  },
  {
   "cell_type": "code",
   "execution_count": null,
   "metadata": {},
   "outputs": [],
   "source": [
    "# hallucination 프롬프트 직접 작성\n",
    "from langchain_core.prompts import PromptTemplate\n",
    "from langchain_core.output_parsers import StrOutputParser\n",
    "\n",
    "hallucination_prompt = PromptTemplate.from_template(\"\"\"\n",
    "You are a teacher tasked with evaluating whether a student's answer is based on facts or not,\n",
    "Given documents, which are excerpts from income tax law, and a student's answer;\n",
    "If the student's answer is based on documents, respond with \"not hallucinated\",\n",
    "If the student's answer is not based on documents, respond with \"hallucinated\".\n",
    "                                                    \n",
    "documents: {documents}\n",
    "student_answer: {student_answer}\n",
    "\"\"\")\n",
    "\n",
    "hallucination_llm = ChatOpenAI(model=\"gpt-4o\", temperature=0)\n",
    "\n",
    "def check_hallucination(state: AgentState) -> Literal['hallucinated', 'not hallucinated']:\n",
    "    answer = state['answer']\n",
    "    context = state['context']\n",
    "    context = [doc.page_content for doc in context]\n",
    "    hallucination_chain = hallucination_prompt | llm | StrOutputParser()\n",
    "    response = hallucination_chain.invoke({'student_answer': answer, 'documents': context})\n",
    "    # print(f'hallucination response == {response}')\n",
    "    return response"
   ]
  },
  {
   "cell_type": "code",
   "execution_count": null,
   "metadata": {},
   "outputs": [],
   "source": [
    "from langchain import hub\n",
    "\n",
    "helpfulness_prompt = hub.pull(\"langchain-ai/rag-answer-helpfulness\")\n",
    "\n",
    "def check_helpfulness_grader(state: AgentState) -> Literal['helpful', 'unhelpful']:\n",
    "    query = state['query']\n",
    "    answer = state['answer']\n",
    "    helpfulness_chain = helpfulness_prompt | llm\n",
    "    response = helpfulness_chain.invoke({'question': query, 'student_answer': answer})\n",
    "    if response[\"Score\"] == 1:\n",
    "        return 'helpful'\n",
    "    return 'unhelpful'\n",
    "\n",
    "\n",
    "def check_helpfulness(state: AgentState):\n",
    "    return state"
   ]
  },
  {
   "cell_type": "code",
   "execution_count": null,
   "metadata": {},
   "outputs": [],
   "source": [
    "# query = '연봉 5천만원인 거주자의 소득세는 얼마인가요?'\n",
    "# context = retriever.invoke(query)\n",
    "# generate_state = {'query': query, 'context': context}\n",
    "# answer = generate(generate_state)\n",
    "# print(f'answer == {answer}')\n",
    "\n",
    "# hallucination_state = {'answer': answer, 'context': context}\n",
    "# helpfulness_state = {'query': query, 'answer': answer}\n",
    "\n",
    "# # check_hallucination(hallucination_state)\n",
    "# check_helpfulness(helpfulness_state)"
   ]
  },
  {
   "cell_type": "code",
   "execution_count": null,
   "metadata": {},
   "outputs": [],
   "source": [
    "graph_builder.add_node('retrieve', retrieve)\n",
    "graph_builder.add_node('generate', generate)\n",
    "graph_builder.add_node('rewrite', rewrite)\n",
    "graph_builder.add_node('check_helpfulness', check_helpfulness)"
   ]
  },
  {
   "cell_type": "code",
   "execution_count": null,
   "metadata": {},
   "outputs": [],
   "source": [
    "from langgraph.graph import START, END\n",
    "\n",
    "graph_builder.add_edge(START, 'retrieve')\n",
    "graph_builder.add_conditional_edges(\n",
    "    'retrieve',\n",
    "    check_doc_relevance,\n",
    "    {\n",
    "        'relevant': 'generate',\n",
    "        'irrelevant': END\n",
    "    }\n",
    ")\n",
    "graph_builder.add_conditional_edges(\n",
    "    'generate',\n",
    "    check_hallucination,\n",
    "    {\n",
    "        'not hallucinated': 'check_helpfulness',\n",
    "        'hallucinated': 'generate'\n",
    "    }\n",
    ")\n",
    "graph_builder.add_conditional_edges(\n",
    "    'check_helpfulness',\n",
    "    check_helpfulness_grader,\n",
    "    {\n",
    "        'helpful': END,\n",
    "        'unhelpful': 'rewrite'\n",
    "    }\n",
    ")\n",
    "graph_builder.add_edge('rewrite', 'retrieve')"
   ]
  },
  {
   "cell_type": "code",
   "execution_count": null,
   "metadata": {},
   "outputs": [],
   "source": [
    "graph = graph_builder.compile()"
   ]
  },
  {
   "cell_type": "code",
   "execution_count": null,
   "metadata": {},
   "outputs": [],
   "source": [
    "from IPython.display import Image, display\n",
    "\n",
    "display(Image(graph.get_graph().draw_mermaid_png()))"
   ]
  },
  {
   "cell_type": "code",
   "execution_count": null,
   "metadata": {},
   "outputs": [],
   "source": [
    "inital_state = {'query': '배가고파요'}\n",
    "graph.invoke(inital_state)"
   ]
  },
  {
   "cell_type": "code",
   "execution_count": null,
   "metadata": {},
   "outputs": [],
   "source": [
    "inital_state = {'query': '연봉 5천만원인 거주자가 납부해야 하는 소득세는 얼마인가요?'}\n",
    "graph.invoke(inital_state)"
   ]
  },
  {
   "cell_type": "code",
   "execution_count": null,
   "metadata": {},
   "outputs": [],
   "source": []
  }
 ],
 "metadata": {
  "kernelspec": {
   "display_name": ".venv",
   "language": "python",
   "name": "python3"
  },
  "language_info": {
   "codemirror_mode": {
    "name": "ipython",
    "version": 3
   },
   "file_extension": ".py",
   "mimetype": "text/x-python",
   "name": "python",
   "nbconvert_exporter": "python",
   "pygments_lexer": "ipython3",
   "version": "3.13.2"
  }
 },
 "nbformat": 4,
 "nbformat_minor": 2
}
